{
 "cells": [
  {
   "cell_type": "markdown",
   "metadata": {},
   "source": [
    "### Import Data and Libraries"
   ]
  },
  {
   "cell_type": "code",
   "execution_count": 16,
   "metadata": {
    "collapsed": false
   },
   "outputs": [],
   "source": [
    "import numpy as np\n",
    "import matplotlib.pyplot as plt\n",
    "from time import time\n",
    "from collections import defaultdict"
   ]
  },
  {
   "cell_type": "code",
   "execution_count": 17,
   "metadata": {
    "collapsed": false
   },
   "outputs": [],
   "source": [
    "import sys\n",
    "import pickle\n",
    "sys.path.append(\"../tools/\")\n",
    "\n",
    "from feature_format import featureFormat, targetFeatureSplit\n",
    "from tester import dump_classifier_and_data\n",
    "\n",
    "### Load the dictionary containing the dataset\n",
    "with open(\"final_project_dataset.pkl\", \"r\") as data_file:\n",
    "    data_dict = pickle.load(data_file)"
   ]
  },
  {
   "cell_type": "code",
   "execution_count": 18,
   "metadata": {
    "collapsed": false
   },
   "outputs": [],
   "source": [
    "# Remove total\n",
    "data_dict.pop('TOTAL')\n",
    "my_dataset = data_dict"
   ]
  },
  {
   "cell_type": "markdown",
   "metadata": {},
   "source": [
    "### Create  New Variables"
   ]
  },
  {
   "cell_type": "markdown",
   "metadata": {},
   "source": [
    "Two new features of email might be helpful: the proportion of poi_messages to total messages (to and from respectively)"
   ]
  },
  {
   "cell_type": "code",
   "execution_count": 19,
   "metadata": {
    "collapsed": false
   },
   "outputs": [],
   "source": [
    "for person in my_dataset:\n",
    "    if (my_dataset[person]['to_messages']!='NaN')& (my_dataset[person]['to_messages']>0):\n",
    "        my_dataset[person]['poi_to_rate']=float(my_dataset[person]['from_poi_to_this_person'])/my_dataset[person]['to_messages']\n",
    "    else:\n",
    "        my_dataset[person]['poi_to_rate']='NaN'\n",
    "    if (my_dataset[person]['from_messages']!='NaN')& (my_dataset[person]['from_messages']>0):    \n",
    "        my_dataset[person]['poi_from_rate']=float(my_dataset[person]['from_this_person_to_poi'])/my_dataset[person]['from_messages']\n",
    "    else:\n",
    "        my_dataset[person]['poi_from_rate']='NaN'\n"
   ]
  },
  {
   "cell_type": "markdown",
   "metadata": {},
   "source": [
    "### Observe Data"
   ]
  },
  {
   "cell_type": "code",
   "execution_count": 20,
   "metadata": {
    "collapsed": false
   },
   "outputs": [
    {
     "name": "stdout",
     "output_type": "stream",
     "text": [
      "Total # of people: 145\n",
      "Total # of features: 23\n"
     ]
    }
   ],
   "source": [
    "print 'Total # of people:',len(my_dataset)\n",
    "print 'Total # of features:',len(my_dataset[my_dataset.keys()[0]])"
   ]
  },
  {
   "cell_type": "code",
   "execution_count": 21,
   "metadata": {
    "collapsed": false
   },
   "outputs": [
    {
     "name": "stdout",
     "output_type": "stream",
     "text": [
      "poi:  18\n",
      "non-poi:  127\n"
     ]
    }
   ],
   "source": [
    "my_dataset['METTS MARK']['poi']\n",
    "positive=0\n",
    "negative=0\n",
    "for person in my_dataset:\n",
    "    if my_dataset[person]['poi']==True:\n",
    "        positive+=1\n",
    "    elif my_dataset[person]['poi']==False:\n",
    "        negative+=1\n",
    "\n",
    "print 'poi: ',positive\n",
    "print 'non-poi: ',negative\n",
    "    \n",
    "    "
   ]
  },
  {
   "cell_type": "code",
   "execution_count": 22,
   "metadata": {
    "collapsed": false
   },
   "outputs": [
    {
     "name": "stdout",
     "output_type": "stream",
     "text": [
      "defaultdict(<type 'int'>, {'to_messages': 59, 'deferral_payments': 107, 'expenses': 51, 'deferred_income': 97, 'email_address': 34, 'from_poi_to_this_person': 59, 'poi_from_rate': 59, 'restricted_stock_deferred': 128, 'shared_receipt_with_poi': 59, 'loan_advances': 142, 'from_messages': 59, 'other': 53, 'director_fees': 129, 'bonus': 64, 'total_stock_value': 20, 'from_this_person_to_poi': 59, 'long_term_incentive': 80, 'restricted_stock': 36, 'salary': 51, 'total_payments': 21, 'poi_to_rate': 59, 'exercised_stock_options': 44})\n"
     ]
    }
   ],
   "source": [
    "na_count=defaultdict(int)\n",
    "for person in my_dataset:\n",
    "    for feature in my_dataset[person]:\n",
    "        if my_dataset[person][feature]=='NaN':\n",
    "            na_count[feature]+=1\n",
    "print na_count"
   ]
  },
  {
   "cell_type": "code",
   "execution_count": 23,
   "metadata": {
    "collapsed": true
   },
   "outputs": [],
   "source": [
    "def count_zero(features,check=0):\n",
    "    '''\n",
    "    Args: \n",
    "        check: default as 0, can be any other specific value appeared in features\n",
    "        features: a standard feature list generated from featureFormat()\n",
    "    Returns: \n",
    "        a list with length of # of features, each elements represents the count of specified value\n",
    "    '''\n",
    "    na_counter=[0]*len(features[0])\n",
    "    for person in features:\n",
    "        for i in range(len(features[0])):\n",
    "            if person[i]==check:\n",
    "                na_counter[i]+=1\n",
    "    return na_counter"
   ]
  },
  {
   "cell_type": "markdown",
   "metadata": {},
   "source": [
    "#### 1. Money"
   ]
  },
  {
   "cell_type": "code",
   "execution_count": 8,
   "metadata": {
    "collapsed": false
   },
   "outputs": [],
   "source": [
    "features_list = ['poi','salary', 'expenses', 'exercised_stock_options']\n",
    "data = featureFormat(my_dataset, features_list, sort_keys = True)\n",
    "labels, features = targetFeatureSplit(data)"
   ]
  },
  {
   "cell_type": "code",
   "execution_count": 9,
   "metadata": {
    "collapsed": false
   },
   "outputs": [
    {
     "name": "stdout",
     "output_type": "stream",
     "text": [
      "Zero count: [39, 39, 32]\n"
     ]
    }
   ],
   "source": [
    "print 'Zero count:',count_zero(features,check=0)"
   ]
  },
  {
   "cell_type": "markdown",
   "metadata": {},
   "source": [
    "Seems high exercised stock option is a meaningful indicator of poi."
   ]
  },
  {
   "cell_type": "code",
   "execution_count": 10,
   "metadata": {
    "collapsed": false
   },
   "outputs": [
    {
     "data": {
      "image/png": "[encoded data removed]",
      "text/plain": [
       "<matplotlib.figure.Figure at 0xa7f76a0>"
      ]
     },
     "metadata": {},
     "output_type": "display_data"
    }
   ],
   "source": [
    "# plot expenses against exercised stock option\n",
    "for i,label in enumerate(labels):\n",
    "    if label==1:\n",
    "        plt.scatter(features[i][1],features[i][2],color='r')\n",
    "    else:\n",
    "        plt.scatter(features[i][1],features[i][2],color='b')\n",
    "plt.show()"
   ]
  },
  {
   "cell_type": "code",
   "execution_count": 11,
   "metadata": {
    "collapsed": false
   },
   "outputs": [
    {
     "data": {
      "image/png": "[encoded data removed]",
      "text/plain": [
       "<matplotlib.figure.Figure at 0x86e5d68>"
      ]
     },
     "metadata": {},
     "output_type": "display_data"
    }
   ],
   "source": [
    "# plot expenses against salary\n",
    "for i,label in enumerate(labels):\n",
    "    if label==1:\n",
    "        plt.scatter(features[i][1],features[i][0],color='r')\n",
    "    else:\n",
    "        plt.scatter(features[i][1],features[i][0],color='b')\n",
    "plt.show()"
   ]
  },
  {
   "cell_type": "markdown",
   "metadata": {},
   "source": [
    "#### 2. Email"
   ]
  },
  {
   "cell_type": "code",
   "execution_count": 12,
   "metadata": {
    "collapsed": true
   },
   "outputs": [],
   "source": [
    "features_list = ['poi','to_messages','from_poi_to_this_person', 'from_messages', 'from_this_person_to_poi']\n",
    "data = featureFormat(my_dataset, features_list, sort_keys = True,remove_NaN=False)\n",
    "labels, features = targetFeatureSplit(data)"
   ]
  },
  {
   "cell_type": "code",
   "execution_count": 13,
   "metadata": {
    "collapsed": false
   },
   "outputs": [
    {
     "name": "stdout",
     "output_type": "stream",
     "text": [
      "Zero count: [0, 12, 0, 20]\n"
     ]
    }
   ],
   "source": [
    "print 'Zero count:',count_zero(features,check=0)"
   ]
  },
  {
   "cell_type": "code",
   "execution_count": 14,
   "metadata": {
    "collapsed": false
   },
   "outputs": [
    {
     "data": {
      "image/png": "[encoded data removed]",
      "text/plain": [
       "<matplotlib.figure.Figure at 0xb3240f0>"
      ]
     },
     "metadata": {},
     "output_type": "display_data"
    }
   ],
   "source": [
    "# plot from_message against from_this_person_to_poi\n",
    "for i,label in enumerate(labels):\n",
    "    if label==1:\n",
    "        plt.scatter(features[i][2],features[i][3],color='r')\n",
    "    else:\n",
    "        plt.scatter(features[i][2],features[i][3],color='b')\n",
    "plt.show()"
   ]
  },
  {
   "cell_type": "code",
   "execution_count": 15,
   "metadata": {
    "collapsed": false
   },
   "outputs": [
    {
     "data": {
      "image/png": "[encoded data removed]",
      "text/plain": [
       "<matplotlib.figure.Figure at 0xbc6e4e0>"
      ]
     },
     "metadata": {},
     "output_type": "display_data"
    }
   ],
   "source": [
    "# plot from_message against from_this_person_to_poi (max values excluded)\n",
    "for i,label in enumerate(labels):\n",
    "    if (features[i][3]<300)&(features[i][2]<300):\n",
    "        if label==1:\n",
    "            plt.scatter(features[i][2],features[i][3],color='r')\n",
    "        else:\n",
    "            plt.scatter(features[i][2],features[i][3],color='b')\n",
    "plt.show()"
   ]
  },
  {
   "cell_type": "code",
   "execution_count": 16,
   "metadata": {
    "collapsed": false
   },
   "outputs": [
    {
     "data": {
      "image/png": "[encoded data removed]",
      "text/plain": [
       "<matplotlib.figure.Figure at 0xc161400>"
      ]
     },
     "metadata": {},
     "output_type": "display_data"
    }
   ],
   "source": [
    "# plot to_message against from_poi_to_this_person\n",
    "for i,label in enumerate(labels):\n",
    "    if label==1:\n",
    "        plt.scatter(features[i][0],features[i][1],color='r')\n",
    "    else:\n",
    "        plt.scatter(features[i][0],features[i][1],color='b')\n",
    "plt.show()"
   ]
  },
  {
   "cell_type": "code",
   "execution_count": 17,
   "metadata": {
    "collapsed": false
   },
   "outputs": [],
   "source": [
    "features_list = ['poi','poi_from_rate','poi_to_rate']\n",
    "data = featureFormat(my_dataset, features_list, sort_keys = True,remove_NaN=False)\n",
    "labels, features = targetFeatureSplit(data)"
   ]
  },
  {
   "cell_type": "markdown",
   "metadata": {},
   "source": [
    "Besides money features explored during the course, two newly created poi message ratio seems meaningful. POIs tend to have higher ratio."
   ]
  },
  {
   "cell_type": "code",
   "execution_count": 18,
   "metadata": {
    "collapsed": false
   },
   "outputs": [
    {
     "data": {
      "image/png": "[encoded data removed]",
      "text/plain": [
       "<matplotlib.figure.Figure at 0xc161b38>"
      ]
     },
     "metadata": {},
     "output_type": "display_data"
    }
   ],
   "source": [
    "# plot two poi rate\n",
    "for i,label in enumerate(labels):\n",
    "    if label==1:\n",
    "        plt.scatter(features[i][0],features[i][1],color='r')\n",
    "    else:\n",
    "        plt.scatter(features[i][0],features[i][1],color='b')\n",
    "plt.show()"
   ]
  },
  {
   "cell_type": "markdown",
   "metadata": {},
   "source": [
    "### Explore Algorithms"
   ]
  },
  {
   "cell_type": "code",
   "execution_count": 24,
   "metadata": {
    "collapsed": false
   },
   "outputs": [
    {
     "name": "stderr",
     "output_type": "stream",
     "text": [
      "D:\\Anaconda3\\envs\\python2-2\\lib\\site-packages\\sklearn\\grid_search.py:43: DeprecationWarning: This module was deprecated in version 0.18 in favor of the model_selection module into which all the refactored classes and functions are moved. This module will be removed in 0.20.\n",
      "  DeprecationWarning)\n"
     ]
    }
   ],
   "source": [
    "from sklearn.grid_search import GridSearchCV\n",
    "from sklearn.model_selection import train_test_split\n",
    "from sklearn.cross_validation import StratifiedShuffleSplit\n",
    "from sklearn.metrics import classification_report\n",
    "from sklearn.metrics import confusion_matrix"
   ]
  },
  {
   "cell_type": "markdown",
   "metadata": {},
   "source": [
    "Create a feature scaling function first for later use."
   ]
  },
  {
   "cell_type": "code",
   "execution_count": 25,
   "metadata": {
    "collapsed": false
   },
   "outputs": [],
   "source": [
    "def feature_scaling(features):\n",
    "    '''\n",
    "    Args: a standard feature list generated from featureFormat()\n",
    "    Return: scaled feature list\n",
    "    '''\n",
    "    scaled=[]\n",
    "    for feature in np.array(features).T:\n",
    "        min_val=min(feature)\n",
    "        max_val=max(feature)\n",
    "        scaled_feature=(feature-min_val)/float(max_val-min_val)\n",
    "        scaled.append(scaled_feature)\n",
    "    return np.array(scaled).T"
   ]
  },
  {
   "cell_type": "markdown",
   "metadata": {},
   "source": [
    "#### 0. Define Tester "
   ]
  },
  {
   "cell_type": "code",
   "execution_count": 26,
   "metadata": {
    "collapsed": false
   },
   "outputs": [],
   "source": [
    "# Revised based on tester.py\n",
    "def test_classifier(clf, labels, features, folds = 1000):\n",
    "    cv = StratifiedShuffleSplit(labels, folds, random_state = 42)\n",
    "    true_negatives = 0\n",
    "    false_negatives = 0\n",
    "    true_positives = 0\n",
    "    false_positives = 0\n",
    "    for train_idx, test_idx in cv: \n",
    "        features_train = []\n",
    "        features_test  = []\n",
    "        labels_train   = []\n",
    "        labels_test    = []\n",
    "        for ii in train_idx:\n",
    "            features_train.append( features[ii] )\n",
    "            labels_train.append( labels[ii] )\n",
    "        for jj in test_idx:\n",
    "            features_test.append( features[jj] )\n",
    "            labels_test.append( labels[jj] )\n",
    "        \n",
    "        clf.fit(features_train, labels_train)\n",
    "        predictions = clf.predict(features_test)\n",
    "        for prediction, truth in zip(predictions, labels_test):\n",
    "            if prediction == 0 and truth == 0:\n",
    "                true_negatives += 1\n",
    "            elif prediction == 0 and truth == 1:\n",
    "                false_negatives += 1\n",
    "            elif prediction == 1 and truth == 0:\n",
    "                false_positives += 1\n",
    "            elif prediction == 1 and truth == 1:\n",
    "                true_positives += 1\n",
    "            else:\n",
    "                print \"Warning: Found a predicted label not == 0 or 1.\"\n",
    "                print \"All predictions should take value 0 or 1.\"\n",
    "                print \"Evaluating performance for processed predictions:\"\n",
    "                break\n",
    "    try:\n",
    "        total_predictions = true_negatives + false_negatives + false_positives + true_positives\n",
    "        accuracy = 1.0*(true_positives + true_negatives)/total_predictions\n",
    "        precision = 1.0*true_positives/(true_positives+false_positives)\n",
    "        recall = 1.0*true_positives/(true_positives+false_negatives)\n",
    "        print 'Accuracy:{}; Precision:{}; Recall:{};'.format(round(accuracy,3),round(precision,3),round(recall,3))\n",
    "        return (accuracy,precision,recall)\n",
    "    except:\n",
    "        print \"Got a divide by zero when trying out:\", clf\n",
    "        return (0,0,0)"
   ]
  },
  {
   "cell_type": "markdown",
   "metadata": {},
   "source": [
    "#### 1. Gaussian NB"
   ]
  },
  {
   "cell_type": "markdown",
   "metadata": {},
   "source": [
    "Observation: Not so much parameters to tune for GaussianNB. The choice of features would influence classifier's performance. Feature scaling doesn't make an obvious impact on the performance (which make sense since the algorithm of NB doesn't combine features of different measure unit)."
   ]
  },
  {
   "cell_type": "code",
   "execution_count": 27,
   "metadata": {
    "collapsed": true
   },
   "outputs": [],
   "source": [
    "from sklearn.naive_bayes import GaussianNB"
   ]
  },
  {
   "cell_type": "code",
   "execution_count": 28,
   "metadata": {
    "collapsed": false
   },
   "outputs": [],
   "source": [
    "features_list = ['poi','salary', 'expenses','bonus', 'exercised_stock_options','poi_from_rate','poi_to_rate']\n",
    "data = featureFormat(my_dataset, features_list, sort_keys = True)\n",
    "labels, features = targetFeatureSplit(data)\n",
    "features=feature_scaling(features)\n",
    "features_train, features_test, labels_train, labels_test = train_test_split(features, labels, test_size=0.3)"
   ]
  },
  {
   "cell_type": "code",
   "execution_count": 30,
   "metadata": {
    "collapsed": false
   },
   "outputs": [
    {
     "name": "stdout",
     "output_type": "stream",
     "text": [
      "Fitting done in 0.001s\n",
      "Predicting on the testing set:\n",
      "Done in 0.001s\n",
      "Accuracy score: 0.829\n",
      "             precision    recall  f1-score   support\n",
      "\n",
      "        0.0       0.89      0.92      0.91        37\n",
      "        1.0       0.00      0.00      0.00         4\n",
      "\n",
      "avg / total       0.81      0.83      0.82        41\n",
      "\n",
      "[[34  3]\n",
      " [ 4  0]]\n"
     ]
    }
   ],
   "source": [
    "clf=GaussianNB()\n",
    "t0 = time()\n",
    "clf.fit(features_train,labels_train)\n",
    "print \"Fitting done in %0.3fs\" % (time() - t0)\n",
    "\n",
    "print \"Predicting on the testing set:\"\n",
    "t0 = time()\n",
    "y_pred = clf.predict(features_test)\n",
    "print \"Done in %0.3fs\" % (time() - t0)\n",
    "\n",
    "print 'Accuracy score:',round(clf.score(features_test,labels_test),3)\n",
    "print classification_report(labels_test, y_pred)\n",
    "print confusion_matrix(labels_test, y_pred)"
   ]
  },
  {
   "cell_type": "code",
   "execution_count": 31,
   "metadata": {
    "collapsed": false
   },
   "outputs": [
    {
     "name": "stdout",
     "output_type": "stream",
     "text": [
      "Accuracy:0.833; Precision:0.392; Recall:0.303;\n"
     ]
    },
    {
     "data": {
      "text/plain": [
       "(0.8331428571428572, 0.39161290322580644, 0.3035)"
      ]
     },
     "execution_count": 31,
     "metadata": {},
     "output_type": "execute_result"
    }
   ],
   "source": [
    "test_classifier(clf, labels, features, folds = 1000)"
   ]
  },
  {
   "cell_type": "code",
   "execution_count": 32,
   "metadata": {
    "collapsed": false
   },
   "outputs": [
    {
     "name": "stdout",
     "output_type": "stream",
     "text": [
      "Accuracy:0.863; Precision:0.546; Recall:0.261;\n"
     ]
    },
    {
     "data": {
      "text/plain": [
       "(0.8633571428571428, 0.5455497382198953, 0.2605)"
      ]
     },
     "execution_count": 32,
     "metadata": {},
     "output_type": "execute_result"
    }
   ],
   "source": [
    "features_list = ['poi','salary', 'expenses', 'exercised_stock_options','poi_from_rate','poi_to_rate']\n",
    "data = featureFormat(my_dataset, features_list, sort_keys = True)\n",
    "labels, features = targetFeatureSplit(data)\n",
    "features_train, features_test, labels_train, labels_test = train_test_split(features, labels, test_size=0.3)\n",
    "test_classifier(clf, labels, features, folds = 1000)"
   ]
  },
  {
   "cell_type": "code",
   "execution_count": 30,
   "metadata": {
    "collapsed": false
   },
   "outputs": [
    {
     "name": "stdout",
     "output_type": "stream",
     "text": [
      "Accuracy:0.833; Precision:0.392; Recall:0.303;\n"
     ]
    },
    {
     "data": {
      "text/plain": [
       "(0.8331428571428572, 0.39161290322580644, 0.3035)"
      ]
     },
     "execution_count": 30,
     "metadata": {},
     "output_type": "execute_result"
    }
   ],
   "source": [
    "features_list = ['poi','salary', 'expenses','bonus', 'exercised_stock_options','poi_from_rate','poi_to_rate']\n",
    "data = featureFormat(my_dataset, features_list, sort_keys = True)\n",
    "labels, features = targetFeatureSplit(data)\n",
    "features=feature_scaling(features)\n",
    "features_train, features_test, labels_train, labels_test = train_test_split(features, labels, test_size=0.3)\n",
    "test_classifier(clf, labels, features, folds = 1000)"
   ]
  },
  {
   "cell_type": "markdown",
   "metadata": {},
   "source": [
    "#### 2. DecisionTree"
   ]
  },
  {
   "cell_type": "markdown",
   "metadata": {},
   "source": [
    "Observation: the best estimator returned by GridSearchCV varies drastically for different train/test sets and the precision/recall rate is unstable. Too high max_depth usually results in overfitting. With careful tuning, desired performance is achieved (precision >.3, recall>.3)."
   ]
  },
  {
   "cell_type": "code",
   "execution_count": 33,
   "metadata": {
    "collapsed": true
   },
   "outputs": [],
   "source": [
    "from sklearn.tree import DecisionTreeClassifier"
   ]
  },
  {
   "cell_type": "markdown",
   "metadata": {},
   "source": [
    "Experiment #1 with GridSearchCV cv and scoring setting:"
   ]
  },
  {
   "cell_type": "code",
   "execution_count": 34,
   "metadata": {
    "collapsed": true
   },
   "outputs": [],
   "source": [
    "features_list = ['poi','salary', 'expenses', 'bonus','poi_from_rate','poi_to_rate']\n",
    "data = featureFormat(my_dataset, features_list, sort_keys = True)\n",
    "labels, features = targetFeatureSplit(data)"
   ]
  },
  {
   "cell_type": "code",
   "execution_count": 40,
   "metadata": {
    "collapsed": false
   },
   "outputs": [],
   "source": [
    "param_grid = {'max_depth':[2,3,4,5,6,7,8],\n",
    "          'min_samples_split': [2,5,8,10,12,15,20],\n",
    "          'min_samples_leaf':[1,2,5,8,10],\n",
    "          }\n",
    "cv = StratifiedShuffleSplit(labels, 100, random_state = 42)\n",
    "\n",
    "clf_grid = GridSearchCV(DecisionTreeClassifier(), param_grid=param_grid,cv=cv,scoring='f1')"
   ]
  },
  {
   "cell_type": "code",
   "execution_count": 41,
   "metadata": {
    "collapsed": false,
    "scrolled": true
   },
   "outputs": [
    {
     "name": "stderr",
     "output_type": "stream",
     "text": [
      "D:\\Anaconda3\\envs\\python2-2\\lib\\site-packages\\sklearn\\metrics\\classification.py:1113: UndefinedMetricWarning: F-score is ill-defined and being set to 0.0 due to no predicted samples.\n",
      "  'precision', 'predicted', average, warn_for)\n"
     ]
    },
    {
     "data": {
      "text/plain": [
       "GridSearchCV(cv=StratifiedShuffleSplit(labels=[ 0.  0. ...,  1.  0.], n_iter=100, test_size=0.1, random_state=42),\n",
       "       error_score='raise',\n",
       "       estimator=DecisionTreeClassifier(class_weight=None, criterion='gini', max_depth=None,\n",
       "            max_features=None, max_leaf_nodes=None,\n",
       "            min_impurity_split=1e-07, min_samples_leaf=1,\n",
       "            min_samples_split=2, min_weight_fraction_leaf=0.0,\n",
       "            presort=False, random_state=None, splitter='best'),\n",
       "       fit_params={}, iid=True, n_jobs=1,\n",
       "       param_grid={'min_samples_split': [2, 5, 8, 10, 12, 15, 20], 'max_depth': [2, 3, 4, 5, 6, 7, 8], 'min_samples_leaf': [1, 2, 5, 8, 10]},\n",
       "       pre_dispatch='2*n_jobs', refit=True, scoring='f1', verbose=0)"
      ]
     },
     "execution_count": 41,
     "metadata": {},
     "output_type": "execute_result"
    }
   ],
   "source": [
    "clf_grid.fit(features,labels)"
   ]
  },
  {
   "cell_type": "code",
   "execution_count": 42,
   "metadata": {
    "collapsed": false
   },
   "outputs": [
    {
     "name": "stdout",
     "output_type": "stream",
     "text": [
      "Best estimator found by grid search:\n",
      "DecisionTreeClassifier(class_weight=None, criterion='gini', max_depth=3,\n",
      "            max_features=None, max_leaf_nodes=None,\n",
      "            min_impurity_split=1e-07, min_samples_leaf=5,\n",
      "            min_samples_split=15, min_weight_fraction_leaf=0.0,\n",
      "            presort=False, random_state=None, splitter='best')\n"
     ]
    }
   ],
   "source": [
    "print \"Best estimator found by grid search:\"\n",
    "print clf_grid.best_estimator_"
   ]
  },
  {
   "cell_type": "code",
   "execution_count": 43,
   "metadata": {
    "collapsed": false
   },
   "outputs": [
    {
     "name": "stdout",
     "output_type": "stream",
     "text": [
      "Accuracy:0.813; Precision:0.42; Recall:0.32;\n"
     ]
    },
    {
     "data": {
      "text/plain": [
       "array([ 0.10436583,  0.02319241,  0.52243973,  0.35000204,  0.        ])"
      ]
     },
     "execution_count": 43,
     "metadata": {},
     "output_type": "execute_result"
    }
   ],
   "source": [
    "clf=clf_grid.best_estimator_\n",
    "test_classifier(clf, labels, features, folds = 1000)\n",
    "clf.feature_importances_"
   ]
  },
  {
   "cell_type": "markdown",
   "metadata": {},
   "source": [
    "Experiment #2 with GridSearchCV cv and scoring setting:"
   ]
  },
  {
   "cell_type": "code",
   "execution_count": 44,
   "metadata": {
    "collapsed": true
   },
   "outputs": [],
   "source": [
    "features_list = ['poi','salary', 'expenses', 'exercised_stock_options','poi_from_rate','poi_to_rate']\n",
    "data = featureFormat(my_dataset, features_list, sort_keys = True)\n",
    "labels, features = targetFeatureSplit(data)"
   ]
  },
  {
   "cell_type": "code",
   "execution_count": 45,
   "metadata": {
    "collapsed": true
   },
   "outputs": [],
   "source": [
    "param_grid = {'max_depth':[2,3,4,5,6,7,8],\n",
    "          'min_samples_split': [2,5,8,10,12,15,20],\n",
    "          'min_samples_leaf':[1,2,5,8,10],\n",
    "          }\n",
    "cv = StratifiedShuffleSplit(labels, 100, random_state = 42)\n",
    "\n",
    "clf_grid = GridSearchCV(DecisionTreeClassifier(), param_grid=param_grid,cv=cv,scoring='f1')"
   ]
  },
  {
   "cell_type": "code",
   "execution_count": 46,
   "metadata": {
    "collapsed": false
   },
   "outputs": [
    {
     "name": "stdout",
     "output_type": "stream",
     "text": [
      "Fitting done in 68.335s\n"
     ]
    }
   ],
   "source": [
    "t0=time()\n",
    "clf_grid.fit(features,labels)\n",
    "print \"Fitting done in %0.3fs\" % (time() - t0)"
   ]
  },
  {
   "cell_type": "code",
   "execution_count": 48,
   "metadata": {
    "collapsed": false
   },
   "outputs": [
    {
     "name": "stdout",
     "output_type": "stream",
     "text": [
      "Best estimator found by grid search:\n",
      "DecisionTreeClassifier(class_weight=None, criterion='gini', max_depth=3,\n",
      "            max_features=None, max_leaf_nodes=None,\n",
      "            min_impurity_split=1e-07, min_samples_leaf=8,\n",
      "            min_samples_split=20, min_weight_fraction_leaf=0.0,\n",
      "            presort=False, random_state=None, splitter='best')\n",
      "Accuracy:0.871; Precision:0.555; Recall:0.499;\n"
     ]
    },
    {
     "data": {
      "text/plain": [
       "array([ 0.25097105,  0.34964793,  0.        ,  0.28594119,  0.11343982])"
      ]
     },
     "execution_count": 48,
     "metadata": {},
     "output_type": "execute_result"
    }
   ],
   "source": [
    "print \"Best estimator found by grid search:\"\n",
    "print clf_grid.best_estimator_\n",
    "clf=clf_grid.best_estimator_\n",
    "test_classifier(clf, labels, features, folds = 1000)\n",
    "clf.feature_importances_"
   ]
  },
  {
   "cell_type": "markdown",
   "metadata": {},
   "source": [
    "previous attempts without GridSearchCV cv and scoring setting："
   ]
  },
  {
   "cell_type": "code",
   "execution_count": 36,
   "metadata": {
    "collapsed": false
   },
   "outputs": [
    {
     "name": "stdout",
     "output_type": "stream",
     "text": [
      "Accuracy:0.801; Precision:0.374; Recall:0.283;\n",
      "[ 0.          0.32180293  0.37912544  0.2539904   0.04508123]\n"
     ]
    }
   ],
   "source": [
    "features_list = ['poi','salary', 'expenses', 'bonus','poi_from_rate','poi_to_rate']\n",
    "data = featureFormat(my_dataset, features_list, sort_keys = True)\n",
    "labels, features = targetFeatureSplit(data)\n",
    "features_train, features_test, labels_train, labels_test = train_test_split(features, labels, test_size=0.3)\n",
    "clf=DecisionTreeClassifier(class_weight=None, criterion='gini', max_depth=3,\n",
    "            max_features=None, max_leaf_nodes=None,\n",
    "            min_impurity_split=1e-07, min_samples_leaf=2,\n",
    "            min_samples_split=5, min_weight_fraction_leaf=0.0,\n",
    "            presort=False, random_state=None, splitter='best')\n",
    "test_classifier(clf, labels, features, folds = 1000)\n",
    "print clf.feature_importances_"
   ]
  },
  {
   "cell_type": "code",
   "execution_count": 37,
   "metadata": {
    "collapsed": false
   },
   "outputs": [
    {
     "name": "stdout",
     "output_type": "stream",
     "text": [
      "Accuracy:0.824; Precision:0.367; Recall:0.32;\n",
      "[ 0.          0.18167634  0.57544969  0.          0.24287396  0.        ]\n"
     ]
    }
   ],
   "source": [
    "features_list = ['poi','salary', 'expenses', 'bonus','exercised_stock_options','poi_from_rate','poi_to_rate']\n",
    "data = featureFormat(my_dataset, features_list, sort_keys = True)\n",
    "labels, features = targetFeatureSplit(data)\n",
    "features_train, features_test, labels_train, labels_test = train_test_split(features, labels, test_size=0.3)\n",
    "clf=DecisionTreeClassifier(class_weight=None, criterion='gini', max_depth=2,\n",
    "            max_features=None, max_leaf_nodes=None,\n",
    "            min_impurity_split=1e-07, min_samples_leaf=5,\n",
    "            min_samples_split=5, min_weight_fraction_leaf=0.0,\n",
    "            presort=False, random_state=None, splitter='best')\n",
    "test_classifier(clf, labels, features, folds = 1000)\n",
    "print clf.feature_importances_"
   ]
  },
  {
   "cell_type": "code",
   "execution_count": 38,
   "metadata": {
    "collapsed": false
   },
   "outputs": [
    {
     "name": "stdout",
     "output_type": "stream",
     "text": [
      "Accuracy:0.868; Precision:0.546; Recall:0.467;\n",
      "[ 0.25097105  0.34964793  0.          0.28594119  0.11343982]\n"
     ]
    }
   ],
   "source": [
    "features_list = ['poi','salary', 'expenses', 'exercised_stock_options','poi_from_rate','poi_to_rate']\n",
    "data = featureFormat(my_dataset, features_list, sort_keys = True)\n",
    "labels, features = targetFeatureSplit(data)\n",
    "features_train, features_test, labels_train, labels_test = train_test_split(features, labels, test_size=0.3)\n",
    "clf=DecisionTreeClassifier(class_weight=None, criterion='gini', max_depth=5,\n",
    "            max_features=None, max_leaf_nodes=None,\n",
    "            min_impurity_split=1e-07, min_samples_leaf=8,\n",
    "            min_samples_split=2, min_weight_fraction_leaf=0.0,\n",
    "            presort=False, random_state=None, splitter='best')\n",
    "test_classifier(clf, labels, features, folds = 1000)\n",
    "print clf.feature_importances_"
   ]
  },
  {
   "cell_type": "code",
   "execution_count": 39,
   "metadata": {
    "collapsed": false
   },
   "outputs": [
    {
     "name": "stdout",
     "output_type": "stream",
     "text": [
      "Accuracy score: 0.951\n",
      "             precision    recall  f1-score   support\n",
      "\n",
      "        0.0       0.97      0.97      0.97        39\n",
      "        1.0       0.50      0.50      0.50         2\n",
      "\n",
      "avg / total       0.95      0.95      0.95        41\n",
      "\n",
      "[[38  1]\n",
      " [ 1  1]]\n"
     ]
    }
   ],
   "source": [
    "y_pred = clf.predict(features_test)\n",
    "print 'Accuracy score:',round(clf.score(features_test,labels_test),3)\n",
    "print classification_report(labels_test, y_pred)\n",
    "print confusion_matrix(labels_test, y_pred)"
   ]
  },
  {
   "cell_type": "markdown",
   "metadata": {},
   "source": [
    "Best output:"
   ]
  },
  {
   "cell_type": "code",
   "execution_count": 49,
   "metadata": {
    "collapsed": true
   },
   "outputs": [],
   "source": [
    "clf=DecisionTreeClassifier(class_weight=None, criterion='gini', max_depth=3,\n",
    "            max_features=None, max_leaf_nodes=None,\n",
    "            min_impurity_split=1e-07, min_samples_leaf=8,\n",
    "            min_samples_split=20, min_weight_fraction_leaf=0.0,\n",
    "            presort=False, random_state=None, splitter='best')"
   ]
  },
  {
   "cell_type": "markdown",
   "metadata": {},
   "source": [
    "#### 3. Random Forest"
   ]
  },
  {
   "cell_type": "markdown",
   "metadata": {},
   "source": [
    "Observation: Seems random forest doesn't perform better than a single tree. The precision rate is about the same but recall rate significantly drops."
   ]
  },
  {
   "cell_type": "code",
   "execution_count": 11,
   "metadata": {
    "collapsed": true
   },
   "outputs": [],
   "source": [
    "from sklearn.ensemble import RandomForestClassifier"
   ]
  },
  {
   "cell_type": "code",
   "execution_count": 41,
   "metadata": {
    "collapsed": true
   },
   "outputs": [],
   "source": [
    "features_list =['poi','salary', 'deferral_payments', 'total_payments', 'loan_advances', 'bonus',\n",
    "                'restricted_stock_deferred', 'deferred_income', 'total_stock_value', 'expenses', \n",
    "                'exercised_stock_options', 'other', 'long_term_incentive', 'restricted_stock', 'director_fees',\n",
    "                'to_messages', 'from_poi_to_this_person', 'from_messages', 'from_this_person_to_poi', \n",
    "                'shared_receipt_with_poi','poi_from_rate','poi_to_rate']\n",
    "data = featureFormat(my_dataset, features_list, sort_keys = True)\n",
    "labels, features = targetFeatureSplit(data)\n",
    "features=feature_scaling(features)\n",
    "features_train, features_test, labels_train, labels_test = train_test_split(features, labels, test_size=0.3)"
   ]
  },
  {
   "cell_type": "code",
   "execution_count": 42,
   "metadata": {
    "collapsed": false
   },
   "outputs": [],
   "source": [
    "param_grid = {'max_depth':[2,3,5,8,10],\n",
    "              'n_estimators':[2,5,8,10,15,20],\n",
    "          'min_samples_split': [2,5,8,10,12,15,20],\n",
    "          'min_samples_leaf':[1,2,5,8,10],\n",
    "          }\n",
    "clf = GridSearchCV(RandomForestClassifier(), param_grid)"
   ]
  },
  {
   "cell_type": "code",
   "execution_count": 43,
   "metadata": {
    "collapsed": false
   },
   "outputs": [
    {
     "name": "stdout",
     "output_type": "stream",
     "text": [
      "Fitting done in 98.430s\n",
      "Best estimator found by grid search:\n",
      "RandomForestClassifier(bootstrap=True, class_weight=None, criterion='gini',\n",
      "            max_depth=2, max_features='auto', max_leaf_nodes=None,\n",
      "            min_impurity_split=1e-07, min_samples_leaf=2,\n",
      "            min_samples_split=5, min_weight_fraction_leaf=0.0,\n",
      "            n_estimators=10, n_jobs=1, oob_score=False, random_state=None,\n",
      "            verbose=0, warm_start=False)\n",
      "Predicting on the testing set:\n",
      "Done in 0.006s\n",
      "Accuracy score: 0.818\n",
      "             precision    recall  f1-score   support\n",
      "\n",
      "        0.0       0.82      1.00      0.90        36\n",
      "        1.0       0.00      0.00      0.00         8\n",
      "\n",
      "avg / total       0.67      0.82      0.74        44\n",
      "\n",
      "[[36  0]\n",
      " [ 8  0]]\n"
     ]
    },
    {
     "name": "stderr",
     "output_type": "stream",
     "text": [
      "D:\\Anaconda3\\envs\\python2-2\\lib\\site-packages\\sklearn\\metrics\\classification.py:1113: UndefinedMetricWarning: Precision and F-score are ill-defined and being set to 0.0 in labels with no predicted samples.\n",
      "  'precision', 'predicted', average, warn_for)\n"
     ]
    }
   ],
   "source": [
    "t0 = time()\n",
    "clf.fit(features_train,labels_train)\n",
    "print \"Fitting done in %0.3fs\" % (time() - t0)\n",
    "\n",
    "print \"Best estimator found by grid search:\"\n",
    "print clf.best_estimator_\n",
    "\n",
    "print \"Predicting on the testing set:\"\n",
    "t0 = time()\n",
    "y_pred = clf.predict(features_test)\n",
    "print \"Done in %0.3fs\" % (time() - t0)\n",
    "\n",
    "print 'Accuracy score:',round(clf.score(features_test,labels_test),3)\n",
    "print classification_report(labels_test, y_pred)\n",
    "print confusion_matrix(labels_test, y_pred)"
   ]
  },
  {
   "cell_type": "code",
   "execution_count": 44,
   "metadata": {
    "collapsed": false
   },
   "outputs": [
    {
     "name": "stdout",
     "output_type": "stream",
     "text": [
      "Accuracy:0.867; Precision:0.5; Recall:0.086;\n"
     ]
    },
    {
     "data": {
      "text/plain": [
       "(0.8666666666666667, 0.5, 0.0865)"
      ]
     },
     "execution_count": 44,
     "metadata": {},
     "output_type": "execute_result"
    }
   ],
   "source": [
    "clf=clf.best_estimator_\n",
    "test_classifier(clf, labels, features, folds = 1000)"
   ]
  },
  {
   "cell_type": "code",
   "execution_count": 152,
   "metadata": {
    "collapsed": false
   },
   "outputs": [
    {
     "name": "stdout",
     "output_type": "stream",
     "text": [
      "Accuracy:0.86; Precision:0.435; Recall:0.161;\n"
     ]
    },
    {
     "data": {
      "text/plain": [
       "(0.8602666666666666, 0.43513513513513513, 0.161)"
      ]
     },
     "execution_count": 152,
     "metadata": {},
     "output_type": "execute_result"
    }
   ],
   "source": [
    "'''\n",
    "features_list =['poi','salary', 'deferral_payments', 'total_payments', 'loan_advances', 'bonus',\n",
    "                'restricted_stock_deferred', 'deferred_income', 'total_stock_value', 'expenses', \n",
    "                'exercised_stock_options', 'other', 'long_term_incentive', 'restricted_stock', 'director_fees',\n",
    "                'to_messages', 'from_poi_to_this_person', 'from_messages', 'from_this_person_to_poi', \n",
    "                'shared_receipt_with_poi','poi_from_rate','poi_to_rate']\n",
    "clf=RandomForestClassifier(bootstrap=True, class_weight=None, criterion='gini',\n",
    "            max_depth=8, max_features='auto', max_leaf_nodes=None,\n",
    "            min_impurity_split=1e-07, min_samples_leaf=1,\n",
    "            min_samples_split=2, min_weight_fraction_leaf=0.0,\n",
    "            n_estimators=15, n_jobs=1, oob_score=False, random_state=None,\n",
    "            verbose=0, warm_start=False)\n",
    "test_classifier(clf, labels, features, folds = 1000)\n",
    "'''"
   ]
  },
  {
   "cell_type": "markdown",
   "metadata": {},
   "source": [
    "#### 4. SVM"
   ]
  },
  {
   "cell_type": "markdown",
   "metadata": {},
   "source": [
    "Observation: Played with different combination of features and parameters, the precision rate is often admirably high while the recall rate is usually painfully low. SVM is conservative and thus fails to identify many positive cases."
   ]
  },
  {
   "cell_type": "code",
   "execution_count": 12,
   "metadata": {
    "collapsed": true
   },
   "outputs": [],
   "source": [
    "from sklearn.svm import SVC"
   ]
  },
  {
   "cell_type": "code",
   "execution_count": 51,
   "metadata": {
    "collapsed": true
   },
   "outputs": [],
   "source": [
    "features_list = ['poi','salary', 'expenses', 'exercised_stock_options','poi_from_rate','poi_to_rate']\n",
    "data = featureFormat(my_dataset, features_list, sort_keys = True)\n",
    "labels, features = targetFeatureSplit(data)\n",
    "features=feature_scaling(features)\n",
    "features_train, features_test, labels_train, labels_test = train_test_split(features, labels, test_size=0.3)"
   ]
  },
  {
   "cell_type": "code",
   "execution_count": 52,
   "metadata": {
    "collapsed": true
   },
   "outputs": [],
   "source": [
    "param_grid = {\n",
    "         'C': [1e3, 5e3, 1e4, 5e4, 1e5],\n",
    "          'gamma': [0.0001, 0.0005, 0.001, 0.005, 0.01, 0.1],\n",
    "          }\n",
    "clf = GridSearchCV(SVC(), param_grid)"
   ]
  },
  {
   "cell_type": "code",
   "execution_count": 53,
   "metadata": {
    "collapsed": false
   },
   "outputs": [
    {
     "name": "stdout",
     "output_type": "stream",
     "text": [
      "Fitting done in 0.312s\n",
      "Best estimator found by grid search:\n",
      "SVC(C=1000.0, cache_size=200, class_weight=None, coef0=0.0,\n",
      "  decision_function_shape=None, degree=3, gamma=0.005, kernel='rbf',\n",
      "  max_iter=-1, probability=False, random_state=None, shrinking=True,\n",
      "  tol=0.001, verbose=False)\n",
      "Predicting on the testing set:\n",
      "Done in 0.001s\n",
      "Accuracy score: 0.878\n",
      "             precision    recall  f1-score   support\n",
      "\n",
      "        0.0       0.88      1.00      0.94        36\n",
      "        1.0       0.00      0.00      0.00         5\n",
      "\n",
      "avg / total       0.77      0.88      0.82        41\n",
      "\n",
      "[[36  0]\n",
      " [ 5  0]]\n"
     ]
    }
   ],
   "source": [
    "t0 = time()\n",
    "clf.fit(features_train,labels_train)\n",
    "print \"Fitting done in %0.3fs\" % (time() - t0)\n",
    "\n",
    "print \"Best estimator found by grid search:\"\n",
    "print clf.best_estimator_\n",
    "\n",
    "print \"Predicting on the testing set:\"\n",
    "t0 = time()\n",
    "y_pred = clf.predict(features_test)\n",
    "print \"Done in %0.3fs\" % (time() - t0)\n",
    "\n",
    "print 'Accuracy score:',round(clf.score(features_test,labels_test),3)\n",
    "print classification_report(labels_test, y_pred)\n",
    "print confusion_matrix(labels_test, y_pred)"
   ]
  },
  {
   "cell_type": "code",
   "execution_count": 54,
   "metadata": {
    "collapsed": false
   },
   "outputs": [
    {
     "name": "stdout",
     "output_type": "stream",
     "text": [
      "Accuracy:0.862; Precision:0.626; Recall:0.077;\n"
     ]
    },
    {
     "data": {
      "text/plain": [
       "(0.8615714285714285, 0.6260162601626016, 0.077)"
      ]
     },
     "execution_count": 54,
     "metadata": {},
     "output_type": "execute_result"
    }
   ],
   "source": [
    "clf=clf.best_estimator_\n",
    "test_classifier(clf, labels, features, folds = 1000)"
   ]
  },
  {
   "cell_type": "markdown",
   "metadata": {},
   "source": [
    "#### 5. PCA+SVM"
   ]
  },
  {
   "cell_type": "markdown",
   "metadata": {},
   "source": [
    "Observation: The combination seems to be even worse than simply adopting SVM. Probably should not adopt complex algorithm on a relatively small dataset."
   ]
  },
  {
   "cell_type": "code",
   "execution_count": 13,
   "metadata": {
    "collapsed": true
   },
   "outputs": [],
   "source": [
    "from sklearn.decomposition import PCA"
   ]
  },
  {
   "cell_type": "code",
   "execution_count": 56,
   "metadata": {
    "collapsed": false
   },
   "outputs": [],
   "source": [
    "features_list =['poi','salary', 'deferral_payments', 'total_payments', 'loan_advances', 'bonus',\n",
    "                'restricted_stock_deferred', 'deferred_income', 'total_stock_value', 'expenses', \n",
    "                'exercised_stock_options', 'other', 'long_term_incentive', 'restricted_stock', 'director_fees',\n",
    "                'to_messages', 'from_poi_to_this_person', 'from_messages', 'from_this_person_to_poi', \n",
    "                'shared_receipt_with_poi','poi_from_rate','poi_to_rate']\n",
    "data = featureFormat(my_dataset, features_list, sort_keys = True)\n",
    "labels, features = targetFeatureSplit(data)\n",
    "features=feature_scaling(features)\n",
    "features_train, features_test, labels_train, labels_test = train_test_split(features, labels, test_size=0.2)"
   ]
  },
  {
   "cell_type": "code",
   "execution_count": 57,
   "metadata": {
    "collapsed": false
   },
   "outputs": [
    {
     "name": "stdout",
     "output_type": "stream",
     "text": [
      "Extracting the top 10 components\n",
      "done in 0.003s\n",
      "Top explained ratio: 0.326706780958\n"
     ]
    }
   ],
   "source": [
    "n_components=10\n",
    "print \"Extracting the top {} components\".format(n_components)\n",
    "t0 = time()\n",
    "pca = PCA(svd_solver='randomized',n_components=n_components, whiten=True).fit(features_train)\n",
    "print \"done in %0.3fs\" % (time() - t0)\n",
    "\n",
    "explained=pca.explained_variance_ratio_\n",
    "print 'Top explained ratio:',explained[0]"
   ]
  },
  {
   "cell_type": "code",
   "execution_count": 58,
   "metadata": {
    "collapsed": false
   },
   "outputs": [],
   "source": [
    "features_train_pca = pca.transform(features_train)\n",
    "features_test_pca = pca.transform(features_test)\n",
    "param_grid = {\n",
    "         'C': [1e3, 5e3, 1e4, 5e4, 1e5],\n",
    "          'gamma': [0.0001, 0.0005, 0.001, 0.005, 0.01, 0.1]\n",
    "          }\n",
    "clf = GridSearchCV(SVC(), param_grid)"
   ]
  },
  {
   "cell_type": "code",
   "execution_count": 59,
   "metadata": {
    "collapsed": false
   },
   "outputs": [
    {
     "name": "stdout",
     "output_type": "stream",
     "text": [
      "Fitting done in 0.363s\n",
      "Best estimator found by grid search:\n",
      "SVC(C=10000.0, cache_size=200, class_weight=None, coef0=0.0,\n",
      "  decision_function_shape=None, degree=3, gamma=0.0005, kernel='rbf',\n",
      "  max_iter=-1, probability=False, random_state=None, shrinking=True,\n",
      "  tol=0.001, verbose=False)\n",
      "Predicting on the testing set:\n",
      "Done in 0.001s\n",
      "Accuracy score: 0.931\n",
      "             precision    recall  f1-score   support\n",
      "\n",
      "        0.0       0.93      1.00      0.96        26\n",
      "        1.0       1.00      0.33      0.50         3\n",
      "\n",
      "avg / total       0.94      0.93      0.92        29\n",
      "\n",
      "[[26  0]\n",
      " [ 2  1]]\n"
     ]
    }
   ],
   "source": [
    "t0 = time()\n",
    "clf.fit(features_train_pca,labels_train)\n",
    "print \"Fitting done in %0.3fs\" % (time() - t0)\n",
    "\n",
    "print \"Best estimator found by grid search:\"\n",
    "print clf.best_estimator_\n",
    "\n",
    "print \"Predicting on the testing set:\"\n",
    "t0 = time()\n",
    "y_pred = clf.predict(features_test_pca)\n",
    "print \"Done in %0.3fs\" % (time() - t0)\n",
    "\n",
    "print 'Accuracy score:',round(clf.score(features_test_pca,labels_test),3)\n",
    "print classification_report(labels_test, y_pred)\n",
    "print confusion_matrix(labels_test, y_pred)"
   ]
  },
  {
   "cell_type": "code",
   "execution_count": 60,
   "metadata": {
    "collapsed": false
   },
   "outputs": [
    {
     "name": "stdout",
     "output_type": "stream",
     "text": [
      "Accuracy:0.848; Precision:0.326; Recall:0.13;\n"
     ]
    },
    {
     "data": {
      "text/plain": [
       "(0.8482, 0.32578616352201256, 0.1295)"
      ]
     },
     "execution_count": 60,
     "metadata": {},
     "output_type": "execute_result"
    }
   ],
   "source": [
    "clf=clf.best_estimator_\n",
    "test_classifier(clf, labels, pca.transform(features), folds = 1000)"
   ]
  },
  {
   "cell_type": "markdown",
   "metadata": {},
   "source": [
    "#### 6. PCA+DecisionTree"
   ]
  },
  {
   "cell_type": "markdown",
   "metadata": {},
   "source": [
    "Observation: The outcome is similiar to PCA+SVM, and the performance didn't exceed adopting DecisionTree only."
   ]
  },
  {
   "cell_type": "code",
   "execution_count": 20,
   "metadata": {
    "collapsed": false
   },
   "outputs": [],
   "source": [
    "features_list =['poi','salary', 'deferral_payments', 'total_payments', 'loan_advances', 'bonus',\n",
    "                'restricted_stock_deferred', 'deferred_income', 'total_stock_value', 'expenses', \n",
    "                'exercised_stock_options', 'other', 'long_term_incentive', 'restricted_stock', 'director_fees',\n",
    "                'to_messages', 'from_poi_to_this_person', 'from_messages', 'from_this_person_to_poi', \n",
    "                'shared_receipt_with_poi','poi_from_rate','poi_to_rate']\n",
    "data = featureFormat(my_dataset, features_list, sort_keys = True)\n",
    "labels, features = targetFeatureSplit(data)\n",
    "features=feature_scaling(features)\n",
    "features_train, features_test, labels_train, labels_test = train_test_split(features, labels, test_size=0.2)"
   ]
  },
  {
   "cell_type": "code",
   "execution_count": 50,
   "metadata": {
    "collapsed": false
   },
   "outputs": [
    {
     "name": "stdout",
     "output_type": "stream",
     "text": [
      "Extracting the top 21 components\n",
      "done in 0.003s\n",
      "Explained ratio: [  3.02181259e-01   1.49757954e-01   1.04807597e-01   8.56440568e-02\n",
      "   7.63988465e-02   6.46304586e-02   4.10465201e-02   3.49330434e-02\n",
      "   3.36893389e-02   2.24396308e-02   2.03603111e-02   1.55799525e-02\n",
      "   1.28952470e-02   1.00748526e-02   8.44224776e-03   7.84583374e-03\n",
      "   3.96341127e-03   3.55466045e-03   1.73650529e-03   1.82632419e-05\n",
      "   1.08238800e-08]\n"
     ]
    },
    {
     "data": {
      "image/png": "[encoded data removed]",
      "text/plain": [
       "<matplotlib.figure.Figure at 0xc94feb8>"
      ]
     },
     "metadata": {},
     "output_type": "display_data"
    }
   ],
   "source": [
    "n_components=len(features_list)-1\n",
    "print \"Extracting the top {} components\".format(n_components)\n",
    "t0 = time()\n",
    "pca = PCA(svd_solver='randomized',n_components=n_components, whiten=True).fit(features_train)\n",
    "print \"done in %0.3fs\" % (time() - t0)\n",
    "\n",
    "explained=pca.explained_variance_ratio_\n",
    "print 'Explained ratio:',explained\n",
    "\n",
    "plt.plot(range(1,len(explained)+1),explained)\n",
    "plt.plot(range(1,len(explained)+1),explained,'.')\n",
    "plt.xticks(range(1,len(explained)+1))\n",
    "plt.show()"
   ]
  },
  {
   "cell_type": "markdown",
   "metadata": {},
   "source": [
    "As the plot indicated, top 1 component explained much more variance than the following ones. Keeping the top 6 components is a reasonable approach."
   ]
  },
  {
   "cell_type": "code",
   "execution_count": 45,
   "metadata": {
    "collapsed": false
   },
   "outputs": [
    {
     "name": "stdout",
     "output_type": "stream",
     "text": [
      "Extracting the top 6 components\n",
      "done in 0.002s\n"
     ]
    }
   ],
   "source": [
    "n_components=6\n",
    "print \"Extracting the top {} components\".format(n_components)\n",
    "t0 = time()\n",
    "pca = PCA(svd_solver='randomized',n_components=n_components, whiten=True).fit(features_train)\n",
    "print \"done in %0.3fs\" % (time() - t0)\n"
   ]
  },
  {
   "cell_type": "code",
   "execution_count": 46,
   "metadata": {
    "collapsed": false
   },
   "outputs": [],
   "source": [
    "features_train_pca = pca.transform(features_train)\n",
    "features_test_pca = pca.transform(features_test)\n",
    "param_grid = {'max_depth':[5,8,10,12,15,20,25,30,35,50],\n",
    "          'min_samples_split': [2,5,8,10,12,15,20],\n",
    "          'min_samples_leaf':[1,2,5,8,10],\n",
    "          }\n",
    "clf = GridSearchCV(DecisionTreeClassifier(), param_grid)"
   ]
  },
  {
   "cell_type": "code",
   "execution_count": 47,
   "metadata": {
    "collapsed": false
   },
   "outputs": [
    {
     "name": "stdout",
     "output_type": "stream",
     "text": [
      "Fitting done in 2.505s\n",
      "Best estimator found by grid search:\n",
      "DecisionTreeClassifier(class_weight=None, criterion='gini', max_depth=8,\n",
      "            max_features=None, max_leaf_nodes=None,\n",
      "            min_impurity_split=1e-07, min_samples_leaf=5,\n",
      "            min_samples_split=20, min_weight_fraction_leaf=0.0,\n",
      "            presort=False, random_state=None, splitter='best')\n",
      "Predicting on the testing set:\n",
      "Done in 0.001s\n",
      "Accuracy score: 0.897\n",
      "             precision    recall  f1-score   support\n",
      "\n",
      "        0.0       0.93      0.96      0.95        27\n",
      "        1.0       0.00      0.00      0.00         2\n",
      "\n",
      "avg / total       0.86      0.90      0.88        29\n",
      "\n",
      "[[26  1]\n",
      " [ 2  0]]\n"
     ]
    }
   ],
   "source": [
    "t0 = time()\n",
    "clf.fit(features_train_pca,labels_train)\n",
    "print \"Fitting done in %0.3fs\" % (time() - t0)\n",
    "\n",
    "print \"Best estimator found by grid search:\"\n",
    "print clf.best_estimator_\n",
    "\n",
    "print \"Predicting on the testing set:\"\n",
    "t0 = time()\n",
    "y_pred = clf.predict(features_test_pca)\n",
    "print \"Done in %0.3fs\" % (time() - t0)\n",
    "\n",
    "print 'Accuracy score:',round(clf.score(features_test_pca,labels_test),3)\n",
    "print classification_report(labels_test, y_pred)\n",
    "print confusion_matrix(labels_test, y_pred)"
   ]
  },
  {
   "cell_type": "code",
   "execution_count": 48,
   "metadata": {
    "collapsed": false
   },
   "outputs": [
    {
     "name": "stdout",
     "output_type": "stream",
     "text": [
      "Accuracy:0.799; Precision:0.12; Recall:0.08;\n"
     ]
    },
    {
     "data": {
      "text/plain": [
       "(0.7992666666666667, 0.12021036814425244, 0.08)"
      ]
     },
     "execution_count": 48,
     "metadata": {},
     "output_type": "execute_result"
    }
   ],
   "source": [
    "clf=clf.best_estimator_\n",
    "test_classifier(clf, labels, pca.transform(features), folds = 1000)"
   ]
  },
  {
   "cell_type": "markdown",
   "metadata": {},
   "source": [
    "### Conclusion"
   ]
  },
  {
   "cell_type": "markdown",
   "metadata": {
    "collapsed": true
   },
   "source": [
    "- Taking the performance of both precision and recall into consideration, the best algorithm turns out to be DecisionTreeClassifier (with features and parameters below).\n",
    "- Though the dimension of features is really high, the dataset is small (~150 people), so more complex algorithms didn't add any value, sometimes even make the outcome worse."
   ]
  },
  {
   "cell_type": "code",
   "execution_count": null,
   "metadata": {
    "collapsed": true
   },
   "outputs": [],
   "source": [
    "'''\n",
    "features_list = ['poi','salary', 'expenses', 'exercised_stock_options','poi_from_rate','poi_to_rate']\n",
    "clf=DecisionTreeClassifier(class_weight=None, criterion='gini', max_depth=3,\n",
    "            max_features=None, max_leaf_nodes=None,\n",
    "            min_impurity_split=1e-07, min_samples_leaf=8,\n",
    "            min_samples_split=20, min_weight_fraction_leaf=0.0,\n",
    "            presort=False, random_state=None, splitter='best')\n",
    "'''"
   ]
  }
 ],
 "metadata": {
  "anaconda-cloud": {},
  "kernelspec": {
   "display_name": "Python [python2-2]",
   "language": "python",
   "name": "Python [python2-2]"
  },
  "language_info": {
   "codemirror_mode": {
    "name": "ipython",
    "version": 2
   },
   "file_extension": ".py",
   "mimetype": "text/x-python",
   "name": "python",
   "nbconvert_exporter": "python",
   "pygments_lexer": "ipython2",
   "version": "2.7.13"
  }
 },
 "nbformat": 4,
 "nbformat_minor": 0
}
